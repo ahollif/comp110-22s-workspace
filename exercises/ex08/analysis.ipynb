{
 "cells": [
  {
   "cell_type": "markdown",
   "metadata": {},
   "source": [
    "# Analysis for Continuous Improvement\n",
    "\n",
    "Author Name: Adam Cline Hollifield\n",
    "\n",
    "9-digit PID: 730231193\n",
    "\n",
    "Continuous Improvement embraces a belief there is _always room to make things better_. It is a mindset and process we value and practice in this course. In this assignment, you are able to practice continuous improvement and contribute to the design ideas of the course.\n",
    "\n",
    "## Brainstorming Ideas\n",
    "\n",
    "Reflect on your personal experiences and observations in COMP110 and **brainstorm modifications to the course that _create value_ beyond its current design**. When brainstorming, try not to be critical of the ideas you come up with regarding scale, stakeholders impacted, or for any other reasons. In the markdown cell below, brainstorm 3 to 5 ideas you think would create value for you.\n",
    "\n",
    "Each brainstormed idea should state a. the suggested change or addition, b. what the expected value created, and c. which specific stakeholders would benefit.  If helpful, expand on the following template \"The course should (state idea here) because it will (state value created here) for (insert stakeholders here).\"\n",
    "\n",
    "Example A: \"The course should use only examples from psychology experiments because it will be more relevant for students who are psychology majors.\"\n",
    "\n",
    "Example B: \"The course should not have post-lesson questions because they are not useful for most students in the class.\""
   ]
  },
  {
   "cell_type": "markdown",
   "metadata": {},
   "source": [
    "### Part 1. Creative Ideation\n",
    "\n",
    "1. Students would learn more via application by having more optional 'challenge' coding problems available other than those given in the exercises once per week. \n",
    "2. Attendance requirements are an external motivator needed to boost course participation rates and consequently course performance. \n",
    "3. Synchronous sessions twice per week, in addition to the videos, would give students more chances for instructor engagement and content practice. \n",
    "4. Providing more examples of 'real world' applications for the concepts learned in class could be extremely beneficial for engagement and knowledge retention -- I've found understanding 'why' something is taught is a powerful motivational tool. \n",
    "5. The reality is that COMP 110 students come in with a wide range of prior programming experience -- conducting a survey to assess this before the course begins could be useful for targeting students who may need extra help / remediation. "
   ]
  },
  {
   "cell_type": "markdown",
   "metadata": {},
   "source": [
    "## Connecting with Available Data\n",
    "\n",
    "The data you have available for this analysis is limited to the anonymized course survey you and your peers filled out a few weeks ago. The data is found in the `survey.csv` file in this exercise directory. Each row represents an individual survey response. Each column has a description which can be found on the project write-up here: <https://22s.comp110.com/exercises/ex08.html>\n",
    "\n",
    "Review the list of available data and identify which one of your ideas _does not_, or is _least likely to_, have relevant data to support the analysis of your idea to create value. In the box below, identify which of your ideas lacks data and suggest how we might be able to collect this data in the future. One aspect of _continuous improvement_ is trying to avoid \"tunnel vision\" where possible improvements are not considered because there is no data available to analyze it. Identifying new data sources can unlock improvements!"
   ]
  },
  {
   "cell_type": "markdown",
   "metadata": {},
   "source": [
    "### Part 2. Identifying Missing Data\n",
    "\n",
    "1. Idea without sufficient data to analyze: Idea 1\n",
    "\n",
    "2. Suggestion for how to collect data to support this idea in the future: \n",
    "\n",
    "The only parameters that are even tangentially applicable here are `own_examples` and `hours_online_work`. We could (very imperfectly) use the latter as a proxy for time spent on the course and the former as a proxy for time spent on outside resources such as LeetCode. Regardless, using these parameters would introduce ambiguity that would prevent a meaningful analysis. \n",
    "\n",
    "If we were to implement this idea, at a minimum there would be one independent and one dependent variable, respectively: the number of optional 'challenge' problems completed, and performance on the relevant quizzes. \n",
    "\n",
    "Of course the weekly exercises do serve as 'challenge' problems in their own right. However, I genuinely feel students would be well-served simply by having access to more. Should implementation (i.e. devising new problems aside from those in the weekly exercises) be a hassle, even simply making students aware of selected problems from outside resources (e.g LeetCode) could prove extremely beneficial.\n",
    "\n",
    "I recognize this idea is tricky because there really is no way to test it without at first implementing it -- it would be entirely experimental in nature. Regardless, intuition tells me the potential costs (waste of time / resources) are far less than the potential benefits (better student performance) should this idea be well-implemented. "
   ]
  },
  {
   "cell_type": "markdown",
   "metadata": {},
   "source": [
    "## Choosing an Idea to Analyze\n",
    "\n",
    "Consider those of your ideas which _do_ seem likely to have relevant data to analyze. If none of your ideas do, spend a few minutes and brainstorm another idea or two with the added connection of data available on hand and add those ideas to your brainstormed ideas list.\n",
    "\n",
    "Select the one idea which you believe is _most valuable_ to analyze relative to the others and has data to support the analysis of. In the markdown cell for Part 3 below, identify the idea you are exploring and articulate why you believe it is most valuable (e.g. widest impact, biggest opportunity for improvement, simplest change for significant improvement, and so on)."
   ]
  },
  {
   "cell_type": "markdown",
   "metadata": {},
   "source": [
    "### Part 3. Choosing Your Analysis\n",
    "\n",
    "1. Idea to analyze with available data: Idea 5\n",
    "\n",
    "2. This idea is more valuable than the others brainstormed because: \n",
    "\n",
    "In light of COVID-19, suggestions related to attendance requirements / entirely synchronous lectures seem like the 'obvious' choices. The reality though is that we'll likely see a widespread shift away from asynchronous instruction modes once life (continues) to shift back to normal, so I question what value I can add by positing changes that, in all likelihood, will occur anyway in subsequent semesters. The drawbacks of asynchronous learning are well-documented, and although I'm not in the instructional team, I suspect we started out as asynchronous of necessity to comply with guidelines / external forces more than anything else. \n",
    "\n",
    "Idea 5 though -- capturing students who may need more targeted help before the course begins -- is much more novel and has greater potential for impact. I don't mean to brag, but I've performed well in the course so far. I attribute this partly to having prior experience with Python, and my hypothesis is there's likely a correlation between prior programming experience and course performance. Should this hypothesis prove correct, a natural implication would be that students who don't have this prior experience would be well-served by receiving targeted additional help. Conducting a course survey before instruction begins would be useful for identifying these students early on. "
   ]
  },
  {
   "cell_type": "markdown",
   "metadata": {},
   "source": [
    "## Your Analysis\n",
    "\n",
    "Before you begin analysis, a reminder that we do not expect the data to support everyone's ideas and you can complete this exercise for full credit even if the data does not clearly support your suggestion or even completely refutes it. What we are looking for is a logical attempt to explore the data using the techniques you have learned up until now in a way that _either_ supports, refutes, or does not have a clear result and then to reflect on your findings after the analysis.\n",
    "\n",
    "Using the utility functions you created for the previous exercise, you will continue with your analysis in the following part. Before you begin, refer to the rubric on the technical expectations of this section in the exercise write-up.\n",
    "\n",
    "In this section, you are expected to interleave code and markdown cells such that for each step of your analysis you are starting with an English description of what you are planning to do next in a markdown cell, followed by a Python cell that performs that step of the analysis."
   ]
  },
  {
   "cell_type": "markdown",
   "metadata": {},
   "source": [
    "### Part 4. Analysis\n",
    "\n",
    "We begin by changing some settings in the notebook to automatically reload changes to imported files."
   ]
  },
  {
   "cell_type": "code",
   "execution_count": 15,
   "metadata": {},
   "outputs": [],
   "source": [
    "%reload_ext autoreload\n",
    "%autoreload 2"
   ]
  },
  {
   "cell_type": "markdown",
   "metadata": {},
   "source": [
    "We continue by importing the helper functions from `data_utils`."
   ]
  },
  {
   "cell_type": "code",
   "execution_count": 29,
   "metadata": {},
   "outputs": [],
   "source": [
    "# TODO: You complete the code blocks from here forward!\n",
    "\n",
    "from data_utils import read_csv_rows\n",
    "from data_utils import column_values\n",
    "from data_utils import columnar\n",
    "from data_utils import head\n",
    "from data_utils import select\n",
    "from data_utils import concat\n",
    "from data_utils import count\n",
    "from tabulate import tabulate"
   ]
  },
  {
   "cell_type": "markdown",
   "metadata": {},
   "source": [
    "Next, ... (you take it from here and add additional code and markdown cells to read in the CSV file and process it as needed)"
   ]
  },
  {
   "cell_type": "code",
   "execution_count": 21,
   "metadata": {},
   "outputs": [],
   "source": [
    "SURVEY_DATA_CSV_FILE_PATH: str = \"../../data/survey.csv\""
   ]
  },
  {
   "cell_type": "markdown",
   "metadata": {},
   "source": [
    "Create a row-oriented data table from the csv file:"
   ]
  },
  {
   "cell_type": "code",
   "execution_count": 24,
   "metadata": {},
   "outputs": [],
   "source": [
    "data_rows: list[dict[str, str]] = read_csv_rows(SURVEY_DATA_CSV_FILE_PATH)"
   ]
  },
  {
   "cell_type": "markdown",
   "metadata": {},
   "source": [
    "Convert the row-oriented table to a column-oriented table for ease of use / functionality, and check to see it's displaying properly:"
   ]
  },
  {
   "cell_type": "code",
   "execution_count": 36,
   "metadata": {},
   "outputs": [
    {
     "data": {
      "text/html": [
       "<table>\n",
       "<thead>\n",
       "<tr><th style=\"text-align: right;\">  row</th><th style=\"text-align: right;\">  year</th><th>unc_status                 </th><th>comp_major  </th><th>primary_major   </th><th>data_science  </th><th>prereqs                     </th><th>prior_exp                   </th><th>ap_principles  </th><th>ap_a  </th><th>other_comp                      </th><th>prior_time                  </th><th>languages               </th><th>hours_online_social  </th><th>hours_online_work  </th><th style=\"text-align: right;\">  lesson_time</th><th style=\"text-align: right;\">  sync_perf</th><th style=\"text-align: right;\">  all_sync</th><th style=\"text-align: right;\">  flipped_class</th><th style=\"text-align: right;\">  no_hybrid</th><th style=\"text-align: right;\">  own_notes</th><th style=\"text-align: right;\">  own_examples</th><th style=\"text-align: right;\">  oh_visits</th><th style=\"text-align: right;\">  ls_effective</th><th style=\"text-align: right;\">  lsqs_effective</th><th style=\"text-align: right;\">  programming_effective</th><th style=\"text-align: right;\">  qz_effective</th><th>oh_effective  </th><th>tutoring_effective  </th><th style=\"text-align: right;\">  pace</th><th style=\"text-align: right;\">  difficulty</th><th style=\"text-align: right;\">  understanding</th><th style=\"text-align: right;\">  interesting</th><th style=\"text-align: right;\">  valuable</th><th style=\"text-align: right;\">  would_recommend</th></tr>\n",
       "</thead>\n",
       "<tbody>\n",
       "<tr><td style=\"text-align: right;\">    0</td><td style=\"text-align: right;\">    22</td><td>Returning UNC Student      </td><td>No          </td><td>Mathematics     </td><td>No            </td><td>MATH 233, MATH 347, MATH 381</td><td>7-12 months                 </td><td>No             </td><td>No    </td><td>UNC                             </td><td>1 month or so               </td><td>Python, R / Matlab / SAS</td><td>3 to 5 hours         </td><td>0 to 2 hours       </td><td style=\"text-align: right;\">            6</td><td style=\"text-align: right;\">          2</td><td style=\"text-align: right;\">         2</td><td style=\"text-align: right;\">              1</td><td style=\"text-align: right;\">          2</td><td style=\"text-align: right;\">          4</td><td style=\"text-align: right;\">             4</td><td style=\"text-align: right;\">          0</td><td style=\"text-align: right;\">             7</td><td style=\"text-align: right;\">               3</td><td style=\"text-align: right;\">                      7</td><td style=\"text-align: right;\">             5</td><td>              </td><td>                    </td><td style=\"text-align: right;\">     1</td><td style=\"text-align: right;\">           1</td><td style=\"text-align: right;\">              7</td><td style=\"text-align: right;\">            5</td><td style=\"text-align: right;\">         6</td><td style=\"text-align: right;\">                5</td></tr>\n",
       "<tr><td style=\"text-align: right;\">    1</td><td style=\"text-align: right;\">    25</td><td>Returning UNC Student      </td><td>No          </td><td>Mathematics     </td><td>Yes           </td><td>MATH 130, MATH 231, STOR 155</td><td>None to less than one month!</td><td>               </td><td>      </td><td>                                </td><td>                            </td><td>                        </td><td>0 to 2 hours         </td><td>5 to 10 hours      </td><td style=\"text-align: right;\">            4</td><td style=\"text-align: right;\">          3</td><td style=\"text-align: right;\">         3</td><td style=\"text-align: right;\">              1</td><td style=\"text-align: right;\">          2</td><td style=\"text-align: right;\">          6</td><td style=\"text-align: right;\">             4</td><td style=\"text-align: right;\">          5</td><td style=\"text-align: right;\">             5</td><td style=\"text-align: right;\">               5</td><td style=\"text-align: right;\">                      5</td><td style=\"text-align: right;\">             5</td><td>7             </td><td>6                   </td><td style=\"text-align: right;\">     6</td><td style=\"text-align: right;\">           6</td><td style=\"text-align: right;\">              3</td><td style=\"text-align: right;\">            4</td><td style=\"text-align: right;\">         6</td><td style=\"text-align: right;\">                4</td></tr>\n",
       "<tr><td style=\"text-align: right;\">    2</td><td style=\"text-align: right;\">    25</td><td>Incoming First-year Student</td><td>Yes - BA    </td><td>Computer Science</td><td>No            </td><td>MATH 130, MATH 152, MATH 210</td><td>None to less than one month!</td><td>               </td><td>      </td><td>                                </td><td>                            </td><td>                        </td><td>3 to 5 hours         </td><td>5 to 10 hours      </td><td style=\"text-align: right;\">            3</td><td style=\"text-align: right;\">          3</td><td style=\"text-align: right;\">         4</td><td style=\"text-align: right;\">              2</td><td style=\"text-align: right;\">          1</td><td style=\"text-align: right;\">          7</td><td style=\"text-align: right;\">             7</td><td style=\"text-align: right;\">          2</td><td style=\"text-align: right;\">             5</td><td style=\"text-align: right;\">               6</td><td style=\"text-align: right;\">                      7</td><td style=\"text-align: right;\">             7</td><td>4             </td><td>                    </td><td style=\"text-align: right;\">     6</td><td style=\"text-align: right;\">           4</td><td style=\"text-align: right;\">              6</td><td style=\"text-align: right;\">            7</td><td style=\"text-align: right;\">         7</td><td style=\"text-align: right;\">                7</td></tr>\n",
       "<tr><td style=\"text-align: right;\">    3</td><td style=\"text-align: right;\">    24</td><td>Returning UNC Student      </td><td>Yes - BS    </td><td>Computer Science</td><td>Maybe         </td><td>MATH 231, MATH 232, STOR 155</td><td>2-6 months                  </td><td>No             </td><td>No    </td><td>High school course (IB or other)</td><td>None to less than one month!</td><td>Python                  </td><td>3 to 5 hours         </td><td>3 to 5 hours       </td><td style=\"text-align: right;\">            5</td><td style=\"text-align: right;\">          5</td><td style=\"text-align: right;\">         4</td><td style=\"text-align: right;\">              3</td><td style=\"text-align: right;\">          3</td><td style=\"text-align: right;\">          6</td><td style=\"text-align: right;\">             5</td><td style=\"text-align: right;\">          1</td><td style=\"text-align: right;\">             6</td><td style=\"text-align: right;\">               3</td><td style=\"text-align: right;\">                      5</td><td style=\"text-align: right;\">             5</td><td>5             </td><td>4                   </td><td style=\"text-align: right;\">     4</td><td style=\"text-align: right;\">           4</td><td style=\"text-align: right;\">              5</td><td style=\"text-align: right;\">            6</td><td style=\"text-align: right;\">         6</td><td style=\"text-align: right;\">                6</td></tr>\n",
       "<tr><td style=\"text-align: right;\">    4</td><td style=\"text-align: right;\">    25</td><td>Incoming First-year Student</td><td>Yes - BA    </td><td>Computer Science</td><td>No            </td><td>MATH 130                    </td><td>None to less than one month!</td><td>               </td><td>      </td><td>                                </td><td>                            </td><td>                        </td><td>0 to 2 hours         </td><td>3 to 5 hours       </td><td style=\"text-align: right;\">            7</td><td style=\"text-align: right;\">          3</td><td style=\"text-align: right;\">         3</td><td style=\"text-align: right;\">              3</td><td style=\"text-align: right;\">          2</td><td style=\"text-align: right;\">          6</td><td style=\"text-align: right;\">             3</td><td style=\"text-align: right;\">          5</td><td style=\"text-align: right;\">             6</td><td style=\"text-align: right;\">               6</td><td style=\"text-align: right;\">                      6</td><td style=\"text-align: right;\">             6</td><td>7             </td><td>3                   </td><td style=\"text-align: right;\">     6</td><td style=\"text-align: right;\">           5</td><td style=\"text-align: right;\">              5</td><td style=\"text-align: right;\">            6</td><td style=\"text-align: right;\">         6</td><td style=\"text-align: right;\">                7</td></tr>\n",
       "</tbody>\n",
       "</table>"
      ],
      "text/plain": [
       "'<table>\\n<thead>\\n<tr><th style=\"text-align: right;\">  row</th><th style=\"text-align: right;\">  year</th><th>unc_status                 </th><th>comp_major  </th><th>primary_major   </th><th>data_science  </th><th>prereqs                     </th><th>prior_exp                   </th><th>ap_principles  </th><th>ap_a  </th><th>other_comp                      </th><th>prior_time                  </th><th>languages               </th><th>hours_online_social  </th><th>hours_online_work  </th><th style=\"text-align: right;\">  lesson_time</th><th style=\"text-align: right;\">  sync_perf</th><th style=\"text-align: right;\">  all_sync</th><th style=\"text-align: right;\">  flipped_class</th><th style=\"text-align: right;\">  no_hybrid</th><th style=\"text-align: right;\">  own_notes</th><th style=\"text-align: right;\">  own_examples</th><th style=\"text-align: right;\">  oh_visits</th><th style=\"text-align: right;\">  ls_effective</th><th style=\"text-align: right;\">  lsqs_effective</th><th style=\"text-align: right;\">  programming_effective</th><th style=\"text-align: right;\">  qz_effective</th><th>oh_effective  </th><th>tutoring_effective  </th><th style=\"text-align: right;\">  pace</th><th style=\"text-align: right;\">  difficulty</th><th style=\"text-align: right;\">  understanding</th><th style=\"text-align: right;\">  interesting</th><th style=\"text-align: right;\">  valuable</th><th style=\"text-align: right;\">  would_recommend</th></tr>\\n</thead>\\n<tbody>\\n<tr><td style=\"text-align: right;\">    0</td><td style=\"text-align: right;\">    22</td><td>Returning UNC Student      </td><td>No          </td><td>Mathematics     </td><td>No            </td><td>MATH 233, MATH 347, MATH 381</td><td>7-12 months                 </td><td>No             </td><td>No    </td><td>UNC                             </td><td>1 month or so               </td><td>Python, R / Matlab / SAS</td><td>3 to 5 hours         </td><td>0 to 2 hours       </td><td style=\"text-align: right;\">            6</td><td style=\"text-align: right;\">          2</td><td style=\"text-align: right;\">         2</td><td style=\"text-align: right;\">              1</td><td style=\"text-align: right;\">          2</td><td style=\"text-align: right;\">          4</td><td style=\"text-align: right;\">             4</td><td style=\"text-align: right;\">          0</td><td style=\"text-align: right;\">             7</td><td style=\"text-align: right;\">               3</td><td style=\"text-align: right;\">                      7</td><td style=\"text-align: right;\">             5</td><td>              </td><td>                    </td><td style=\"text-align: right;\">     1</td><td style=\"text-align: right;\">           1</td><td style=\"text-align: right;\">              7</td><td style=\"text-align: right;\">            5</td><td style=\"text-align: right;\">         6</td><td style=\"text-align: right;\">                5</td></tr>\\n<tr><td style=\"text-align: right;\">    1</td><td style=\"text-align: right;\">    25</td><td>Returning UNC Student      </td><td>No          </td><td>Mathematics     </td><td>Yes           </td><td>MATH 130, MATH 231, STOR 155</td><td>None to less than one month!</td><td>               </td><td>      </td><td>                                </td><td>                            </td><td>                        </td><td>0 to 2 hours         </td><td>5 to 10 hours      </td><td style=\"text-align: right;\">            4</td><td style=\"text-align: right;\">          3</td><td style=\"text-align: right;\">         3</td><td style=\"text-align: right;\">              1</td><td style=\"text-align: right;\">          2</td><td style=\"text-align: right;\">          6</td><td style=\"text-align: right;\">             4</td><td style=\"text-align: right;\">          5</td><td style=\"text-align: right;\">             5</td><td style=\"text-align: right;\">               5</td><td style=\"text-align: right;\">                      5</td><td style=\"text-align: right;\">             5</td><td>7             </td><td>6                   </td><td style=\"text-align: right;\">     6</td><td style=\"text-align: right;\">           6</td><td style=\"text-align: right;\">              3</td><td style=\"text-align: right;\">            4</td><td style=\"text-align: right;\">         6</td><td style=\"text-align: right;\">                4</td></tr>\\n<tr><td style=\"text-align: right;\">    2</td><td style=\"text-align: right;\">    25</td><td>Incoming First-year Student</td><td>Yes - BA    </td><td>Computer Science</td><td>No            </td><td>MATH 130, MATH 152, MATH 210</td><td>None to less than one month!</td><td>               </td><td>      </td><td>                                </td><td>                            </td><td>                        </td><td>3 to 5 hours         </td><td>5 to 10 hours      </td><td style=\"text-align: right;\">            3</td><td style=\"text-align: right;\">          3</td><td style=\"text-align: right;\">         4</td><td style=\"text-align: right;\">              2</td><td style=\"text-align: right;\">          1</td><td style=\"text-align: right;\">          7</td><td style=\"text-align: right;\">             7</td><td style=\"text-align: right;\">          2</td><td style=\"text-align: right;\">             5</td><td style=\"text-align: right;\">               6</td><td style=\"text-align: right;\">                      7</td><td style=\"text-align: right;\">             7</td><td>4             </td><td>                    </td><td style=\"text-align: right;\">     6</td><td style=\"text-align: right;\">           4</td><td style=\"text-align: right;\">              6</td><td style=\"text-align: right;\">            7</td><td style=\"text-align: right;\">         7</td><td style=\"text-align: right;\">                7</td></tr>\\n<tr><td style=\"text-align: right;\">    3</td><td style=\"text-align: right;\">    24</td><td>Returning UNC Student      </td><td>Yes - BS    </td><td>Computer Science</td><td>Maybe         </td><td>MATH 231, MATH 232, STOR 155</td><td>2-6 months                  </td><td>No             </td><td>No    </td><td>High school course (IB or other)</td><td>None to less than one month!</td><td>Python                  </td><td>3 to 5 hours         </td><td>3 to 5 hours       </td><td style=\"text-align: right;\">            5</td><td style=\"text-align: right;\">          5</td><td style=\"text-align: right;\">         4</td><td style=\"text-align: right;\">              3</td><td style=\"text-align: right;\">          3</td><td style=\"text-align: right;\">          6</td><td style=\"text-align: right;\">             5</td><td style=\"text-align: right;\">          1</td><td style=\"text-align: right;\">             6</td><td style=\"text-align: right;\">               3</td><td style=\"text-align: right;\">                      5</td><td style=\"text-align: right;\">             5</td><td>5             </td><td>4                   </td><td style=\"text-align: right;\">     4</td><td style=\"text-align: right;\">           4</td><td style=\"text-align: right;\">              5</td><td style=\"text-align: right;\">            6</td><td style=\"text-align: right;\">         6</td><td style=\"text-align: right;\">                6</td></tr>\\n<tr><td style=\"text-align: right;\">    4</td><td style=\"text-align: right;\">    25</td><td>Incoming First-year Student</td><td>Yes - BA    </td><td>Computer Science</td><td>No            </td><td>MATH 130                    </td><td>None to less than one month!</td><td>               </td><td>      </td><td>                                </td><td>                            </td><td>                        </td><td>0 to 2 hours         </td><td>3 to 5 hours       </td><td style=\"text-align: right;\">            7</td><td style=\"text-align: right;\">          3</td><td style=\"text-align: right;\">         3</td><td style=\"text-align: right;\">              3</td><td style=\"text-align: right;\">          2</td><td style=\"text-align: right;\">          6</td><td style=\"text-align: right;\">             3</td><td style=\"text-align: right;\">          5</td><td style=\"text-align: right;\">             6</td><td style=\"text-align: right;\">               6</td><td style=\"text-align: right;\">                      6</td><td style=\"text-align: right;\">             6</td><td>7             </td><td>3                   </td><td style=\"text-align: right;\">     6</td><td style=\"text-align: right;\">           5</td><td style=\"text-align: right;\">              5</td><td style=\"text-align: right;\">            6</td><td style=\"text-align: right;\">         6</td><td style=\"text-align: right;\">                7</td></tr>\\n</tbody>\\n</table>'"
      ]
     },
     "execution_count": 36,
     "metadata": {},
     "output_type": "execute_result"
    }
   ],
   "source": [
    "column_data: dict[str, list[str]] = columnar(data_rows)\n",
    "tabulate(head(column_data, 5), column_data.keys(), \"html\")"
   ]
  },
  {
   "cell_type": "markdown",
   "metadata": {},
   "source": [
    "#### Create a 'filtered' table complete with selected variables for the analysis: \n",
    "\n",
    "For the purposes of this analysis, using `ap_principles` and `ap_a` as proxies for prior programming experience will be easiest since their potential inputs are binary (yes / no). Additionally, we can reasonably assume there to be some multi-collinearity with more quantitative variables such as amount of time spent programming. I will examine their correlations with respect to pace, difficulty, and understanding. \n",
    "\n",
    "Independent variables\n",
    "- `ap_principles`\n",
    "- `ap_a`\n",
    "\n",
    "Dependent variables\n",
    "- `pace` \n",
    "- `difficulty`\n",
    "- `understanding`"
   ]
  },
  {
   "cell_type": "code",
   "execution_count": 109,
   "metadata": {},
   "outputs": [
    {
     "data": {
      "text/html": [
       "<table>\n",
       "<thead>\n",
       "<tr><th>ap_principles  </th><th>ap_a  </th><th style=\"text-align: right;\">  pace</th><th style=\"text-align: right;\">  difficulty</th><th style=\"text-align: right;\">  understanding</th></tr>\n",
       "</thead>\n",
       "<tbody>\n",
       "<tr><td>No             </td><td>No    </td><td style=\"text-align: right;\">     1</td><td style=\"text-align: right;\">           1</td><td style=\"text-align: right;\">              7</td></tr>\n",
       "<tr><td>               </td><td>      </td><td style=\"text-align: right;\">     6</td><td style=\"text-align: right;\">           6</td><td style=\"text-align: right;\">              3</td></tr>\n",
       "<tr><td>               </td><td>      </td><td style=\"text-align: right;\">     6</td><td style=\"text-align: right;\">           4</td><td style=\"text-align: right;\">              6</td></tr>\n",
       "<tr><td>No             </td><td>No    </td><td style=\"text-align: right;\">     4</td><td style=\"text-align: right;\">           4</td><td style=\"text-align: right;\">              5</td></tr>\n",
       "<tr><td>               </td><td>      </td><td style=\"text-align: right;\">     6</td><td style=\"text-align: right;\">           5</td><td style=\"text-align: right;\">              5</td></tr>\n",
       "<tr><td>No             </td><td>No    </td><td style=\"text-align: right;\">     4</td><td style=\"text-align: right;\">           3</td><td style=\"text-align: right;\">              6</td></tr>\n",
       "<tr><td>Yes            </td><td>No    </td><td style=\"text-align: right;\">     4</td><td style=\"text-align: right;\">           4</td><td style=\"text-align: right;\">              6</td></tr>\n",
       "<tr><td>               </td><td>      </td><td style=\"text-align: right;\">     4</td><td style=\"text-align: right;\">           4</td><td style=\"text-align: right;\">              7</td></tr>\n",
       "<tr><td>               </td><td>      </td><td style=\"text-align: right;\">     5</td><td style=\"text-align: right;\">           4</td><td style=\"text-align: right;\">              6</td></tr>\n",
       "<tr><td>               </td><td>      </td><td style=\"text-align: right;\">     7</td><td style=\"text-align: right;\">           4</td><td style=\"text-align: right;\">              6</td></tr>\n",
       "</tbody>\n",
       "</table>"
      ],
      "text/plain": [
       "'<table>\\n<thead>\\n<tr><th>ap_principles  </th><th>ap_a  </th><th style=\"text-align: right;\">  pace</th><th style=\"text-align: right;\">  difficulty</th><th style=\"text-align: right;\">  understanding</th></tr>\\n</thead>\\n<tbody>\\n<tr><td>No             </td><td>No    </td><td style=\"text-align: right;\">     1</td><td style=\"text-align: right;\">           1</td><td style=\"text-align: right;\">              7</td></tr>\\n<tr><td>               </td><td>      </td><td style=\"text-align: right;\">     6</td><td style=\"text-align: right;\">           6</td><td style=\"text-align: right;\">              3</td></tr>\\n<tr><td>               </td><td>      </td><td style=\"text-align: right;\">     6</td><td style=\"text-align: right;\">           4</td><td style=\"text-align: right;\">              6</td></tr>\\n<tr><td>No             </td><td>No    </td><td style=\"text-align: right;\">     4</td><td style=\"text-align: right;\">           4</td><td style=\"text-align: right;\">              5</td></tr>\\n<tr><td>               </td><td>      </td><td style=\"text-align: right;\">     6</td><td style=\"text-align: right;\">           5</td><td style=\"text-align: right;\">              5</td></tr>\\n<tr><td>No             </td><td>No    </td><td style=\"text-align: right;\">     4</td><td style=\"text-align: right;\">           3</td><td style=\"text-align: right;\">              6</td></tr>\\n<tr><td>Yes            </td><td>No    </td><td style=\"text-align: right;\">     4</td><td style=\"text-align: right;\">           4</td><td style=\"text-align: right;\">              6</td></tr>\\n<tr><td>               </td><td>      </td><td style=\"text-align: right;\">     4</td><td style=\"text-align: right;\">           4</td><td style=\"text-align: right;\">              7</td></tr>\\n<tr><td>               </td><td>      </td><td style=\"text-align: right;\">     5</td><td style=\"text-align: right;\">           4</td><td style=\"text-align: right;\">              6</td></tr>\\n<tr><td>               </td><td>      </td><td style=\"text-align: right;\">     7</td><td style=\"text-align: right;\">           4</td><td style=\"text-align: right;\">              6</td></tr>\\n</tbody>\\n</table>'"
      ]
     },
     "execution_count": 109,
     "metadata": {},
     "output_type": "execute_result"
    }
   ],
   "source": [
    "selected_variables: list[str] = ['ap_principles', 'ap_a', 'pace', 'difficulty', 'understanding']\n",
    "filtered_data: dict[str, list[str]] = select(column_data, selected_variables)\n",
    "\n",
    "tabulate(head(filtered_data, 10), filtered_data.keys(), \"html\")"
   ]
  },
  {
   "cell_type": "markdown",
   "metadata": {},
   "source": [
    "#### Cleaning:\n",
    "\n",
    "As displayed above, several entries for ap_principles and ap_a are left blank. We can reasonably assume a blank entry indicates \"No\" , \"None\" , or some other variation. Therefore, we'll define a helper function to clean the data."
   ]
  },
  {
   "cell_type": "code",
   "execution_count": 55,
   "metadata": {},
   "outputs": [],
   "source": [
    "def clean(column_table: dict[str, list[str]], defaults: list[str]) -> dict[str, list[str]]:\n",
    "    \"\"\"Creates new column-table with defaults if original entries are blank.\"\"\"\n",
    "\n",
    "    output: dict[str, list[str]] = {}\n",
    "    index: int = 0\n",
    "\n",
    "    for column in column_table:\n",
    "        new_list: list[str] = []\n",
    "        output[column] = new_list\n",
    "        for i in range(0, len(column_table[column])):\n",
    "            if column_table[column][i] == \"\":\n",
    "                new_list.append(defaults[index])\n",
    "            else:\n",
    "                new_list.append(column_table[column][i])\n",
    "        index += 1\n",
    "        \n",
    "    return output"
   ]
  },
  {
   "cell_type": "code",
   "execution_count": 110,
   "metadata": {},
   "outputs": [
    {
     "data": {
      "text/html": [
       "<table>\n",
       "<thead>\n",
       "<tr><th>ap_principles  </th><th>ap_a  </th><th style=\"text-align: right;\">  pace</th><th style=\"text-align: right;\">  difficulty</th><th style=\"text-align: right;\">  understanding</th></tr>\n",
       "</thead>\n",
       "<tbody>\n",
       "<tr><td>No             </td><td>No    </td><td style=\"text-align: right;\">     1</td><td style=\"text-align: right;\">           1</td><td style=\"text-align: right;\">              7</td></tr>\n",
       "<tr><td>No             </td><td>No    </td><td style=\"text-align: right;\">     6</td><td style=\"text-align: right;\">           6</td><td style=\"text-align: right;\">              3</td></tr>\n",
       "<tr><td>No             </td><td>No    </td><td style=\"text-align: right;\">     6</td><td style=\"text-align: right;\">           4</td><td style=\"text-align: right;\">              6</td></tr>\n",
       "<tr><td>No             </td><td>No    </td><td style=\"text-align: right;\">     4</td><td style=\"text-align: right;\">           4</td><td style=\"text-align: right;\">              5</td></tr>\n",
       "<tr><td>No             </td><td>No    </td><td style=\"text-align: right;\">     6</td><td style=\"text-align: right;\">           5</td><td style=\"text-align: right;\">              5</td></tr>\n",
       "<tr><td>No             </td><td>No    </td><td style=\"text-align: right;\">     4</td><td style=\"text-align: right;\">           3</td><td style=\"text-align: right;\">              6</td></tr>\n",
       "<tr><td>Yes            </td><td>No    </td><td style=\"text-align: right;\">     4</td><td style=\"text-align: right;\">           4</td><td style=\"text-align: right;\">              6</td></tr>\n",
       "<tr><td>No             </td><td>No    </td><td style=\"text-align: right;\">     4</td><td style=\"text-align: right;\">           4</td><td style=\"text-align: right;\">              7</td></tr>\n",
       "<tr><td>No             </td><td>No    </td><td style=\"text-align: right;\">     5</td><td style=\"text-align: right;\">           4</td><td style=\"text-align: right;\">              6</td></tr>\n",
       "<tr><td>No             </td><td>No    </td><td style=\"text-align: right;\">     7</td><td style=\"text-align: right;\">           4</td><td style=\"text-align: right;\">              6</td></tr>\n",
       "</tbody>\n",
       "</table>"
      ],
      "text/plain": [
       "'<table>\\n<thead>\\n<tr><th>ap_principles  </th><th>ap_a  </th><th style=\"text-align: right;\">  pace</th><th style=\"text-align: right;\">  difficulty</th><th style=\"text-align: right;\">  understanding</th></tr>\\n</thead>\\n<tbody>\\n<tr><td>No             </td><td>No    </td><td style=\"text-align: right;\">     1</td><td style=\"text-align: right;\">           1</td><td style=\"text-align: right;\">              7</td></tr>\\n<tr><td>No             </td><td>No    </td><td style=\"text-align: right;\">     6</td><td style=\"text-align: right;\">           6</td><td style=\"text-align: right;\">              3</td></tr>\\n<tr><td>No             </td><td>No    </td><td style=\"text-align: right;\">     6</td><td style=\"text-align: right;\">           4</td><td style=\"text-align: right;\">              6</td></tr>\\n<tr><td>No             </td><td>No    </td><td style=\"text-align: right;\">     4</td><td style=\"text-align: right;\">           4</td><td style=\"text-align: right;\">              5</td></tr>\\n<tr><td>No             </td><td>No    </td><td style=\"text-align: right;\">     6</td><td style=\"text-align: right;\">           5</td><td style=\"text-align: right;\">              5</td></tr>\\n<tr><td>No             </td><td>No    </td><td style=\"text-align: right;\">     4</td><td style=\"text-align: right;\">           3</td><td style=\"text-align: right;\">              6</td></tr>\\n<tr><td>Yes            </td><td>No    </td><td style=\"text-align: right;\">     4</td><td style=\"text-align: right;\">           4</td><td style=\"text-align: right;\">              6</td></tr>\\n<tr><td>No             </td><td>No    </td><td style=\"text-align: right;\">     4</td><td style=\"text-align: right;\">           4</td><td style=\"text-align: right;\">              7</td></tr>\\n<tr><td>No             </td><td>No    </td><td style=\"text-align: right;\">     5</td><td style=\"text-align: right;\">           4</td><td style=\"text-align: right;\">              6</td></tr>\\n<tr><td>No             </td><td>No    </td><td style=\"text-align: right;\">     7</td><td style=\"text-align: right;\">           4</td><td style=\"text-align: right;\">              6</td></tr>\\n</tbody>\\n</table>'"
      ]
     },
     "execution_count": 110,
     "metadata": {},
     "output_type": "execute_result"
    }
   ],
   "source": [
    "defaults: list[str] = ['No', 'No', '4', '4', '4']\n",
    "cleaned_data: dict[str, list[str]] = clean(filtered_data, defaults)\n",
    "\n",
    "tabulate(head(cleaned_data, 10), cleaned_data.keys(), \"html\")\n"
   ]
  },
  {
   "cell_type": "markdown",
   "metadata": {},
   "source": [
    "#### Counts\n",
    "\n",
    "Now, it will be useful to establish counts for each of the relevant variables"
   ]
  },
  {
   "cell_type": "code",
   "execution_count": 73,
   "metadata": {},
   "outputs": [
    {
     "name": "stdout",
     "output_type": "stream",
     "text": [
      "== Independent variables ==\n",
      "ap_principles: {'No': 531, 'Yes': 89}.\n",
      "ap_a: {'No': 555, 'Yes': 65}.\n",
      "\n",
      "\n",
      "== Dependent variables ==\n",
      "pace: {'1': 2, '6': 137, '4': 173, '5': 203, '7': 69, '3': 27, '2': 9}.\n",
      "difficulty: {'1': 23, '6': 88, '4': 160, '5': 155, '3': 84, '7': 56, '2': 54}.\n",
      "understanding: {'7': 74, '3': 68, '6': 182, '5': 172, '4': 82, '2': 28, '1': 14}.\n"
     ]
    }
   ],
   "source": [
    "count_ap_principles: dict[str, int] = count(cleaned_data['ap_principles'])\n",
    "count_ap_a: dict[str, int] = count(cleaned_data['ap_a'])\n",
    "count_pace: dict[str, int] = count(cleaned_data['pace'])\n",
    "count_difficulty: dict[str, int] = count(cleaned_data['difficulty'])\n",
    "count_understanding: dict[str, int] = count(cleaned_data['understanding'])\n",
    "\n",
    "print('== Independent variables ==')\n",
    "print(f'ap_principles: {count_ap_principles}.')\n",
    "print(f'ap_a: {count_ap_a}.')\n",
    "print('\\n')\n",
    "print('== Dependent variables ==')\n",
    "print(f'pace: {count_pace}.')\n",
    "print(f'difficulty: {count_difficulty}.')\n",
    "print(f'understanding: {count_understanding}.')\n",
    "\n"
   ]
  },
  {
   "cell_type": "markdown",
   "metadata": {},
   "source": [
    "Next, we need to define a function that will allow for cross-column counting. For instance, we'd like to isolate the relative perceived difficulty of the course among people who voted 'No' for `ap_principles`, and conversely, that for those who voted 'Yes'. The values this function returns can be used as inputs to visually compare via bar graphs. "
   ]
  },
  {
   "cell_type": "code",
   "execution_count": 75,
   "metadata": {},
   "outputs": [],
   "source": [
    "def isolate(column_table: dict[str, list[str]], column_x: str, x_value: str, column_y: str) -> dict[str, int]:\n",
    "    \"\"\"Allows for sub-filtering across different columns.\"\"\"    \n",
    "    output: dict[str, int] = {}\n",
    "    for i in range(0, len(column_table[column_x])):\n",
    "        if column_table[column_x][i] == x_value:\n",
    "            if column_table[column_y][i] not in output:\n",
    "                output[column_table[column_y][i]] = 1\n",
    "            else:\n",
    "                output[column_table[column_y][i]] += 1\n",
    "    return output"
   ]
  },
  {
   "cell_type": "code",
   "execution_count": 104,
   "metadata": {},
   "outputs": [
    {
     "name": "stdout",
     "output_type": "stream",
     "text": [
      "Difficulty ratings of those who voted 'No' for ap_principles: {'1': 20, '2': 41, '3': 65, '4': 134, '5': 136, '6': 81, '7': 54}\n",
      "Difficulty ratings of those who voted 'Yes' for ap_principles: {'1': 8, '2': 12, '3': 16, '4': 22, '5': 7}\n"
     ]
    }
   ],
   "source": [
    "test_1: dict[str, int] = dict(sorted(isolate(cleaned_data, 'ap_principles', 'No', 'difficulty').items()))\n",
    "print(f\"Difficulty ratings of those who voted 'No' for ap_principles: {test_1}\")\n",
    "\n",
    "test_2: dict[str, int] = dict(sorted(isolate(cleaned_data, 'ap_principles', 'Yes', 'difficulty').items()))\n",
    "print(f\"Difficulty ratings of those who voted 'Yes' for ap_principles: {test_2}\")\n"
   ]
  },
  {
   "cell_type": "markdown",
   "metadata": {},
   "source": [
    "It will now be useful to convert the values in this dictionary into percentages to normalize the data among different categoires. For instance, many more students have not taken AP Principles than those who have. Displaying the values on a relative basis for each category will be much more visually disgestable than displaying absolute counts."
   ]
  },
  {
   "cell_type": "code",
   "execution_count": 100,
   "metadata": {},
   "outputs": [],
   "source": [
    "def percentage_display(dictionary: dict[str, int]) -> dict[str, float]:\n",
    "    output: dict[str, float] = {}\n",
    "    total: int = 0\n",
    "    for key in dictionary: \n",
    "        total += dictionary[key]\n",
    "    for key in dictionary:\n",
    "        output[key] = round(dictionary[key] / total, 3) \n",
    "\n",
    "    return output"
   ]
  },
  {
   "cell_type": "code",
   "execution_count": 101,
   "metadata": {},
   "outputs": [
    {
     "name": "stdout",
     "output_type": "stream",
     "text": [
      "These are the percentage votes of perceived difficulty among students who have not taken AP Principles: {'1': 0.038, '2': 0.077, '3': 0.122, '4': 0.252, '5': 0.256, '6': 0.153, '7': 0.102}\n"
     ]
    }
   ],
   "source": [
    "test_3: dict[str, float] = percentage_display(test_1)\n",
    "print(f'These are the percentage votes of perceived difficulty among students who have not taken AP Principles: {test_3}')"
   ]
  },
  {
   "cell_type": "markdown",
   "metadata": {},
   "source": [
    "### Graphing\n",
    "\n",
    "Now, we will display graphs to examine visual correlations among the relevant variables. Let's start by examining the relationship between having taken AP Computer Science Principles and perceived difficulty."
   ]
  },
  {
   "cell_type": "code",
   "execution_count": 106,
   "metadata": {},
   "outputs": [
    {
     "data": {
      "text/plain": [
       "<BarContainer object of 7 artists>"
      ]
     },
     "execution_count": 106,
     "metadata": {},
     "output_type": "execute_result"
    },
    {
     "data": {
      "image/png": "[encoded data removed]",
      "text/plain": [
       "<Figure size 864x360 with 2 Axes>"
      ]
     },
     "metadata": {
      "needs_background": "light"
     },
     "output_type": "display_data"
    }
   ],
   "source": [
    "from matplotlib import pyplot as plt\n",
    "\n",
    "yes_counts: dict[str, int] = isolate(cleaned_data, 'ap_principles', 'Yes', 'difficulty')\n",
    "yes_counts = dict(sorted(yes_counts.items()))\n",
    "yes_counts = percentage_display(yes_counts)\n",
    "\n",
    "no_counts: dict[str, int] = isolate(cleaned_data, 'ap_principles', 'No', 'difficulty')\n",
    "no_counts = dict(sorted(no_counts.items()))\n",
    "no_counts = percentage_display(no_counts)\n",
    "\n",
    "\n",
    "fig, axes = plt.subplots(1, 2, figsize=(12, 5), sharey=True)\n",
    "fig.suptitle(\"Relative perceived difficulty among those who have or haven't taken AP Computer Science Principles\")\n",
    "\n",
    "\n",
    "axes[0].set_title(\"Yes\")\n",
    "axes[0].bar(yes_counts.keys(), yes_counts.values())\n",
    "\n",
    "axes[1].set_title(\"No\")\n",
    "axes[1].bar(no_counts.keys(), no_counts.values())"
   ]
  },
  {
   "cell_type": "markdown",
   "metadata": {},
   "source": [
    "Clearly there's an imbalance here -- the 'No' graph is significantly more skewed to the right than that to the left. Let's now look at the relationship having taken AP Computer Science A and perceived difficulty:"
   ]
  },
  {
   "cell_type": "code",
   "execution_count": 105,
   "metadata": {},
   "outputs": [
    {
     "data": {
      "text/plain": [
       "<BarContainer object of 7 artists>"
      ]
     },
     "execution_count": 105,
     "metadata": {},
     "output_type": "execute_result"
    },
    {
     "data": {
      "image/png": "[encoded data removed]",
      "text/plain": [
       "<Figure size 864x360 with 2 Axes>"
      ]
     },
     "metadata": {
      "needs_background": "light"
     },
     "output_type": "display_data"
    }
   ],
   "source": [
    "yes_counts: dict[str, int] = isolate(cleaned_data, 'ap_a', 'Yes', 'difficulty')\n",
    "yes_counts = dict(sorted(yes_counts.items()))\n",
    "yes_counts = percentage_display(yes_counts)\n",
    "\n",
    "no_counts: dict[str, int] = isolate(cleaned_data, 'ap_a', 'No', 'difficulty')\n",
    "no_counts = dict(sorted(no_counts.items()))\n",
    "no_counts = percentage_display(no_counts)\n",
    "\n",
    "\n",
    "fig, axes = plt.subplots(1, 2, figsize=(12, 5), sharey=True)\n",
    "fig.suptitle(\"Relative perceived difficulty among those who have or haven't taken AP Computer Science A\")\n",
    "\n",
    "\n",
    "axes[0].set_title(\"Yes\")\n",
    "axes[0].bar(yes_counts.keys(), yes_counts.values())\n",
    "\n",
    "axes[1].set_title(\"No\")\n",
    "axes[1].bar(no_counts.keys(), no_counts.values())"
   ]
  },
  {
   "cell_type": "markdown",
   "metadata": {},
   "source": [
    "Here we see an even greater imbalance -- although we must note the 'Yes' count for AP Computer Science A pales in comparision to the 'No' count (65 vs 555, respectively), we see those in the 'Yes' category voted a maximum perceived difficulty of 5. A more robust statistical analysis beyond the scope of this course would obviously be helpful, but we can clearly see statistically significant differences based on visual comparisons alone.\n",
    "\n",
    "Let's now examine the relationships between the relevant AP course participations and understanding:"
   ]
  },
  {
   "cell_type": "code",
   "execution_count": 107,
   "metadata": {},
   "outputs": [
    {
     "data": {
      "text/plain": [
       "<BarContainer object of 7 artists>"
      ]
     },
     "execution_count": 107,
     "metadata": {},
     "output_type": "execute_result"
    },
    {
     "data": {
      "image/png": "[encoded data removed]",
      "text/plain": [
       "<Figure size 864x360 with 2 Axes>"
      ]
     },
     "metadata": {
      "needs_background": "light"
     },
     "output_type": "display_data"
    }
   ],
   "source": [
    "yes_counts: dict[str, int] = isolate(cleaned_data, 'ap_principles', 'Yes', 'understanding')\n",
    "yes_counts = dict(sorted(yes_counts.items()))\n",
    "yes_counts = percentage_display(yes_counts)\n",
    "\n",
    "no_counts: dict[str, int] = isolate(cleaned_data, 'ap_principles', 'No', 'understanding')\n",
    "no_counts = dict(sorted(no_counts.items()))\n",
    "no_counts = percentage_display(no_counts)\n",
    "\n",
    "\n",
    "fig, axes = plt.subplots(1, 2, figsize=(12, 5), sharey=True)\n",
    "fig.suptitle(\"Relative perceived understanding among those who have or haven't taken AP Computer Science Principles\")\n",
    "\n",
    "\n",
    "axes[0].set_title(\"Yes\")\n",
    "axes[0].bar(yes_counts.keys(), yes_counts.values())\n",
    "\n",
    "axes[1].set_title(\"No\")\n",
    "axes[1].bar(no_counts.keys(), no_counts.values())"
   ]
  },
  {
   "cell_type": "code",
   "execution_count": 108,
   "metadata": {},
   "outputs": [
    {
     "data": {
      "text/plain": [
       "<BarContainer object of 7 artists>"
      ]
     },
     "execution_count": 108,
     "metadata": {},
     "output_type": "execute_result"
    },
    {
     "data": {
      "image/png": "[encoded data removed]",
      "text/plain": [
       "<Figure size 864x360 with 2 Axes>"
      ]
     },
     "metadata": {
      "needs_background": "light"
     },
     "output_type": "display_data"
    }
   ],
   "source": [
    "yes_counts: dict[str, int] = isolate(cleaned_data, 'ap_a', 'Yes', 'understanding')\n",
    "yes_counts = dict(sorted(yes_counts.items()))\n",
    "yes_counts = percentage_display(yes_counts)\n",
    "\n",
    "no_counts: dict[str, int] = isolate(cleaned_data, 'ap_a', 'No', 'understanding')\n",
    "no_counts = dict(sorted(no_counts.items()))\n",
    "no_counts = percentage_display(no_counts)\n",
    "\n",
    "\n",
    "fig, axes = plt.subplots(1, 2, figsize=(12, 5), sharey=True)\n",
    "fig.suptitle(\"Relative perceived understanding among those who have or haven't taken AP Computer Science A\")\n",
    "\n",
    "\n",
    "axes[0].set_title(\"Yes\")\n",
    "axes[0].bar(yes_counts.keys(), yes_counts.values())\n",
    "\n",
    "axes[1].set_title(\"No\")\n",
    "axes[1].bar(no_counts.keys(), no_counts.values())"
   ]
  },
  {
   "cell_type": "markdown",
   "metadata": {},
   "source": [
    "These two graphs again follow the trend as we'd predict from examining the relationship between prior experience and difficulty -- those with prior experience tend to rate their understanding higher than those who have not. The trend is again particularly apparent among those who have or haven't taken AP Computer Science A.\n",
    "\n",
    "Finally, let's examine the relationship with respect to pace."
   ]
  },
  {
   "cell_type": "code",
   "execution_count": 111,
   "metadata": {},
   "outputs": [
    {
     "data": {
      "text/plain": [
       "<BarContainer object of 7 artists>"
      ]
     },
     "execution_count": 111,
     "metadata": {},
     "output_type": "execute_result"
    },
    {
     "data": {
      "image/png": "[encoded data removed]",
      "text/plain": [
       "<Figure size 864x360 with 2 Axes>"
      ]
     },
     "metadata": {
      "needs_background": "light"
     },
     "output_type": "display_data"
    }
   ],
   "source": [
    "yes_counts: dict[str, int] = isolate(cleaned_data, 'ap_principles', 'Yes', 'pace')\n",
    "yes_counts = dict(sorted(yes_counts.items()))\n",
    "yes_counts = percentage_display(yes_counts)\n",
    "\n",
    "no_counts: dict[str, int] = isolate(cleaned_data, 'ap_principles', 'No', 'pace')\n",
    "no_counts = dict(sorted(no_counts.items()))\n",
    "no_counts = percentage_display(no_counts)\n",
    "\n",
    "\n",
    "fig, axes = plt.subplots(1, 2, figsize=(12, 5), sharey=True)\n",
    "fig.suptitle(\"Relative perceived pace among those who have or haven't taken AP Computer Science Principles\")\n",
    "\n",
    "\n",
    "axes[0].set_title(\"Yes\")\n",
    "axes[0].bar(yes_counts.keys(), yes_counts.values())\n",
    "\n",
    "axes[1].set_title(\"No\")\n",
    "axes[1].bar(no_counts.keys(), no_counts.values())"
   ]
  },
  {
   "cell_type": "code",
   "execution_count": 112,
   "metadata": {},
   "outputs": [
    {
     "data": {
      "text/plain": [
       "<BarContainer object of 7 artists>"
      ]
     },
     "execution_count": 112,
     "metadata": {},
     "output_type": "execute_result"
    },
    {
     "data": {
      "image/png": "[encoded data removed]",
      "text/plain": [
       "<Figure size 864x360 with 2 Axes>"
      ]
     },
     "metadata": {
      "needs_background": "light"
     },
     "output_type": "display_data"
    }
   ],
   "source": [
    "yes_counts: dict[str, int] = isolate(cleaned_data, 'ap_a', 'Yes', 'pace')\n",
    "yes_counts = dict(sorted(yes_counts.items()))\n",
    "yes_counts = percentage_display(yes_counts)\n",
    "\n",
    "no_counts: dict[str, int] = isolate(cleaned_data, 'ap_a', 'No', 'pace')\n",
    "no_counts = dict(sorted(no_counts.items()))\n",
    "no_counts = percentage_display(no_counts)\n",
    "\n",
    "\n",
    "fig, axes = plt.subplots(1, 2, figsize=(12, 5), sharey=True)\n",
    "fig.suptitle(\"Relative perceived pace among those who have or haven't taken AP Computer Science A\")\n",
    "\n",
    "\n",
    "axes[0].set_title(\"Yes\")\n",
    "axes[0].bar(yes_counts.keys(), yes_counts.values())\n",
    "\n",
    "axes[1].set_title(\"No\")\n",
    "axes[1].bar(no_counts.keys(), no_counts.values())"
   ]
  },
  {
   "cell_type": "markdown",
   "metadata": {},
   "source": [
    "Again, the trend continues as we'd expect. Students with prior programming experience perceive the course to be moving much more slowly than their counterparts. "
   ]
  },
  {
   "cell_type": "markdown",
   "metadata": {},
   "source": [
    "To wrap things up, let's write some functions that allow us to compute simple statistical measures such as mean and standard deviation."
   ]
  },
  {
   "cell_type": "code",
   "execution_count": 123,
   "metadata": {},
   "outputs": [],
   "source": [
    "def average(dictionary: dict[str, int]) -> float:\n",
    "    \"\"\"Computes the average for a dictionary with str(int) keys and int values.\"\"\"\n",
    "    total: int = 0\n",
    "    count: int = 0\n",
    "    for key in dictionary:\n",
    "        total += int(key) * dictionary[key]\n",
    "        count += dictionary[key]\n",
    "    return round(total / count, 1)"
   ]
  },
  {
   "cell_type": "code",
   "execution_count": 136,
   "metadata": {},
   "outputs": [],
   "source": [
    "def std_deviation(dictionary: dict[str, int]) -> float:\n",
    "    \"\"\"Computes the standard deviation of a dictionary with str(int) keys and int values.\"\"\"\n",
    "    mean: float = average(dictionary)\n",
    "    values: list[int] = []\n",
    "    total: float = 0\n",
    "    count: int = 0\n",
    "\n",
    "    for key in dictionary:\n",
    "        for i in range(0, dictionary[key]):\n",
    "            values.append(int(key))\n",
    "\n",
    "    for num in values:\n",
    "        total += (num - mean) ** 2\n",
    "        count += 1\n",
    "\n",
    "    return round((total / (count - 1)) ** 0.5, 2)\n",
    "    \n",
    "\n",
    "    \n",
    "    \n",
    "\n"
   ]
  },
  {
   "cell_type": "markdown",
   "metadata": {},
   "source": [
    "Now let's apply these functions to the relationships of interest to gain some basic quantitative information (will only compute for AP Computer Science A for brevity's sake):"
   ]
  },
  {
   "cell_type": "code",
   "execution_count": 137,
   "metadata": {},
   "outputs": [
    {
     "name": "stdout",
     "output_type": "stream",
     "text": [
      "{'3': 16, '4': 22, '2': 12, '5': 7, '1': 8}\n",
      "The mean difficulty among those who voted 'Yes' is 3.1, and the SD is 1.21.\n",
      "The mean difficulty among those who voted 'No' is 4.5, and the SD is 1.48.\n"
     ]
    }
   ],
   "source": [
    "\n",
    "yes_counts: dict[str, int] = isolate(cleaned_data, 'ap_a', 'Yes', 'difficulty')\n",
    "no_counts: dict[str, int] = isolate(cleaned_data, 'ap_a', 'No', 'difficulty')\n",
    "mean_yes = average(yes_counts)\n",
    "mean_no = average(no_counts)\n",
    "std_yes = std_deviation(yes_counts)\n",
    "std_no = std_deviation(no_counts)\n",
    "\n",
    "print(yes_counts)\n",
    "print(f\"The mean difficulty among those who voted 'Yes' is {mean_yes}, and the SD is {std_yes}.\")\n",
    "print(f\"The mean difficulty among those who voted 'No' is {mean_no}, and the SD is {std_no}.\")\n"
   ]
  },
  {
   "cell_type": "markdown",
   "metadata": {},
   "source": [
    "There is a 1.4 unit difference in average difficulty rating among those who have and have not taken AP Computer Science A. Using the standard deviation for those who voted 'No', we see the average for those who voted 'Yes' is almost one standard deviation lower. Clearly there is a discrepancy.\n",
    "\n",
    "I will perform similiar computations for the variables 'understanding' and 'pace'. Again, we'll see a similar trend emerge. "
   ]
  },
  {
   "cell_type": "code",
   "execution_count": 138,
   "metadata": {},
   "outputs": [
    {
     "name": "stdout",
     "output_type": "stream",
     "text": [
      "{'7': 14, '6': 31, '5': 13, '4': 6, '3': 1}\n",
      "The mean understanding among those who voted 'Yes' is 5.8, and the SD is 0.94.\n",
      "The mean understanding among those who voted 'No' is 4.9, and the SD is 1.47.\n"
     ]
    }
   ],
   "source": [
    "yes_counts: dict[str, int] = isolate(cleaned_data, 'ap_a', 'Yes', 'understanding')\n",
    "no_counts: dict[str, int] = isolate(cleaned_data, 'ap_a', 'No', 'understanding')\n",
    "mean_yes = average(yes_counts)\n",
    "mean_no = average(no_counts)\n",
    "std_yes = std_deviation(yes_counts)\n",
    "std_no = std_deviation(no_counts)\n",
    "\n",
    "print(yes_counts)\n",
    "print(f\"The mean understanding among those who voted 'Yes' is {mean_yes}, and the SD is {std_yes}.\")\n",
    "print(f\"The mean understanding among those who voted 'No' is {mean_no}, and the SD is {std_no}.\")"
   ]
  },
  {
   "cell_type": "code",
   "execution_count": 139,
   "metadata": {},
   "outputs": [
    {
     "name": "stdout",
     "output_type": "stream",
     "text": [
      "{'4': 32, '5': 16, '3': 7, '6': 3, '7': 3, '2': 3, '1': 1}\n",
      "The mean pace among those who voted 'Yes' is 4.2, and the SD is 1.12.\n",
      "The mean pace among those who voted 'No' is 5.1, and the SD is 1.11.\n"
     ]
    }
   ],
   "source": [
    "yes_counts: dict[str, int] = isolate(cleaned_data, 'ap_a', 'Yes', 'pace')\n",
    "no_counts: dict[str, int] = isolate(cleaned_data, 'ap_a', 'No', 'pace')\n",
    "mean_yes = average(yes_counts)\n",
    "mean_no = average(no_counts)\n",
    "std_yes = std_deviation(yes_counts)\n",
    "std_no = std_deviation(no_counts)\n",
    "\n",
    "print(yes_counts)\n",
    "print(f\"The mean pace among those who voted 'Yes' is {mean_yes}, and the SD is {std_yes}.\")\n",
    "print(f\"The mean pace among those who voted 'No' is {mean_no}, and the SD is {std_no}.\")"
   ]
  },
  {
   "cell_type": "markdown",
   "metadata": {},
   "source": [
    "## Conclusion\n",
    "\n",
    "In the following markdown cell, write a reflective conclusion given the analysis you performed and identify recommendations.\n",
    "\n",
    "If your analysis of the data supports your idea, state your recommendation for the change and summarize the data analysys results you found which support it. Additionally, describe any extensions or refinements to this idea which might be explored further. Finally, discuss the potential costs, trade-offs, or stakeholders who may be negatively impacted by this proposed change.\n",
    "\n",
    "If your analysis of the data is inconclusive, summarize why your data analysis results were inconclusive in the support of your idea. Additionally, describe what experimental idea implementation or additional data collection might help build more confidence in assessing your idea. Finally, discuss the potential costs, trade-offs, or stakeholders who may be negatively impacted by experimenting with your idea.\n",
    "\n",
    "Finally, if your analysis of the data does not support it, summarize your data analysis results and why it refutes your idea. Discuss the potential costs, trade-offs, or stakeholders who may be negatively impacted by this proposed change. If you disagree with the validity of the findings, describe why your idea still makes sense to implement and what alternative data would better support it. If you agree with the validity of the data analysis, describe what alternate ideas or extensions you would explore instead. "
   ]
  },
  {
   "cell_type": "markdown",
   "metadata": {},
   "source": [
    "### Part 5. Conclusion\n",
    "\n",
    "\n",
    "We see there are clear discrepancies among self-reported course difficulty, understanding, and pace among those who have taken AP computer science courses and those who haven't. Using prior AP coursework as a proxy for prior computer programming experience, those without prior coding experience are left at a severe disadvantage relative to their counterparts. Consequently, capturing the gaps in experience earlier in the course and providing targeted assistance to those without the relevant backgrounds could prove tremendously beneficial for students who are being introduced to coding for the first time and / or weren't in positions to take these foundational courses in high school. \n",
    "\n",
    "Obviously my analyses were extraordinarily simplisitic from a data science perspective. Some refinements I'd propose (that are beyond the scope this course) would be to firstly run regression analysis among my self-established independent variables and dependent variables. Binary options ('Yes', 'No') could be easily transcribed to indicator variables 1 and 0 to make such analysis possible. We could also utilize the `prior_exp` variable with its range of possible options as a more direct measure of prior programming experience.\n",
    "\n",
    "One obvious limitation of my analysis is that a simple 'Yes' or 'No' to either of the AP Computer Science questions reveals nothing about AP course performance. For instance, we can reasonably assume someone who scored a '5' on either AP exam would, on average, rate the course difficulty lower than someone who scored a '1'. Also, we cannot conclude with certainty that those who performed poorly on the AP exams are in better positions to do well in COMP 110 than those who didn't take the AP courses at all. \n",
    "\n",
    "Despite the limitations of my analyses, however, the implications are clear. They also align with what we'd intuitively expect -- those with prior programming experience are more likely to find the course easier, comprehend material better, and find the pace more manageable than those who have none. \n",
    "\n",
    "Now we come to the implementation phase of my suggestion -- how can we better serve students without prior programming experience to narrow the performance gap? Obviously conducting a survey at the beginning of the course would be beneficial to capture this information. But, we must remain wary of how we'd implement actionable strategies using this data. For instance, holding extra review sessions for specifically for students without prior programming experience is an obvious suggestion, but this would be (understandably) unfair for experienced students should they wish to attend. This is also largely the function of tutoring services that already exist. \n",
    "\n",
    "Instead, I propose expanding the function of the TA-buddy system. While students are completing the proposed initial survey, there should be an option to sign-up for weekly check-ins that are _strongly_ suggested for those without prior programming experience. TA's would then check in once weekly to check course understanding, assist with any high-level conceptual questions, or point students in the right direction (i.e. office hours or tutoring) if necessary.\n",
    "\n",
    "The problem with devising solutions like this is that solutions need to be available to _everyone_ to maintain fairness, even if some groups are statistically less likely to need assistance than others. I do believe the TA-buddy system is a good lever to pull though. The optionality should, in theory, target this solution more or less towards the at-risk students who need help the most. Furthermore, while I don't have data to support this, intuition tells me many students may feel uncomfortable reaching out to their TA's on a regular basis for fear of bothering them. The weekly check-ins would at least remove that 'burden' from the students. Finally, this solution would help to increase utilization of essential services such as office hours and tutoring for the students who need it most.\n",
    "\n",
    "An obvious cost, of course, would be overutilizing the time / energy of the TA's. Buy-in from the COMP 110 team would be critical. Varying the frequency of check-ins (e.g., semi-weekly rather than weekly) might prove to be less of a burden. Additionally, should this solution be implemented, soliciting feedback from students at the end of the course would be critical to see if this solution should continue to be implemented in future semesters.\n",
    "\n"
   ]
  }
 ],
 "metadata": {
  "interpreter": {
   "hash": "aee8b7b246df8f9039afb4144a1f6fd8d2ca17a180786b69acc140d282b71a49"
  },
  "kernelspec": {
   "display_name": "Python 3.10.2 64-bit",
   "language": "python",
   "name": "python3"
  },
  "language_info": {
   "codemirror_mode": {
    "name": "ipython",
    "version": 3
   },
   "file_extension": ".py",
   "mimetype": "text/x-python",
   "name": "python",
   "nbconvert_exporter": "python",
   "pygments_lexer": "ipython3",
   "version": "3.10.1"
  },
  "orig_nbformat": 4
 },
 "nbformat": 4,
 "nbformat_minor": 2
}
